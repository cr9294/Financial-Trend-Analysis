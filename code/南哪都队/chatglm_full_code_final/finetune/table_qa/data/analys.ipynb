{
 "cells": [
  {
   "cell_type": "code",
   "execution_count": 3,
   "metadata": {},
   "outputs": [],
   "source": [
    "import json\n",
    "import matplotlib.pyplot as plt\n",
    "from collections import Counter"
   ]
  },
  {
   "cell_type": "code",
   "execution_count": 4,
   "metadata": {},
   "outputs": [],
   "source": [
    "def read_jsonl(file_path):\n",
    "    \"\"\"_summary_\n",
    "    读取jsonl文件\n",
    "    \"\"\"\n",
    "    result = []\n",
    "    with open(file_path, 'r') as fp:\n",
    "        for line in fp.readlines():\n",
    "            result.append(json.loads(line))\n",
    "    return result"
   ]
  },
  {
   "cell_type": "code",
   "execution_count": 5,
   "metadata": {},
   "outputs": [],
   "source": [
    "from transformers import AutoModel, AutoTokenizer\n",
    "\n",
    "tokenizer = AutoTokenizer.from_pretrained(\"/home/zy/other/fintech/model/chatglm2-6b\", trust_remote_code=True)"
   ]
  },
  {
   "cell_type": "code",
   "execution_count": 6,
   "metadata": {},
   "outputs": [
    {
     "name": "stdout",
     "output_type": "stream",
     "text": [
      "total data:  4800\n",
      "total length:  4788\n",
      "726\n"
     ]
    },
    {
     "data": {
      "text/plain": [
       "(array([  2.,   1.,   4.,   3.,   5.,   2.,   6.,   0.,   5.,  10.,  17.,\n",
       "         18.,  20.,  50.,  40.,  56.,  96.,  83.,  96., 111., 124.,  67.,\n",
       "         73.,  79.,  53.,  50.,  54.,  36.,  29.,  32.,  35.,  30.,  29.,\n",
       "         25.,  23.,  24.,  33.,  24.,  44.,  38.,  65.,  64.,  47.,  78.,\n",
       "         63.,  57., 117., 101.,  93.,  96., 182., 123., 163., 188., 167.,\n",
       "        172., 195., 168., 115., 112., 174., 100.,  76.,  95.,  69.,  64.,\n",
       "         58.,  33.,  34.,  41.,  35.,  16.,  24.,  20.,   5.,  10.,  12.,\n",
       "          5.,   1.,   3.,   4.,   3.,   2.,   1.,   1.,   1.,   3.,   1.,\n",
       "          0.,   2.,   0.,   0.,   0.,   0.,   0.,   0.,   0.,   0.,   0.,\n",
       "          2.]),\n",
       " array([296. , 300.3, 304.6, 308.9, 313.2, 317.5, 321.8, 326.1, 330.4,\n",
       "        334.7, 339. , 343.3, 347.6, 351.9, 356.2, 360.5, 364.8, 369.1,\n",
       "        373.4, 377.7, 382. , 386.3, 390.6, 394.9, 399.2, 403.5, 407.8,\n",
       "        412.1, 416.4, 420.7, 425. , 429.3, 433.6, 437.9, 442.2, 446.5,\n",
       "        450.8, 455.1, 459.4, 463.7, 468. , 472.3, 476.6, 480.9, 485.2,\n",
       "        489.5, 493.8, 498.1, 502.4, 506.7, 511. , 515.3, 519.6, 523.9,\n",
       "        528.2, 532.5, 536.8, 541.1, 545.4, 549.7, 554. , 558.3, 562.6,\n",
       "        566.9, 571.2, 575.5, 579.8, 584.1, 588.4, 592.7, 597. , 601.3,\n",
       "        605.6, 609.9, 614.2, 618.5, 622.8, 627.1, 631.4, 635.7, 640. ,\n",
       "        644.3, 648.6, 652.9, 657.2, 661.5, 665.8, 670.1, 674.4, 678.7,\n",
       "        683. , 687.3, 691.6, 695.9, 700.2, 704.5, 708.8, 713.1, 717.4,\n",
       "        721.7, 726. ]),\n",
       " <BarContainer object of 100 artists>)"
      ]
     },
     "execution_count": 6,
     "metadata": {},
     "output_type": "execute_result"
    },
    {
     "data": {
      "image/png": "[encoded data removed]",
      "text/plain": [
       "<Figure size 640x480 with 1 Axes>"
      ]
     },
     "metadata": {},
     "output_type": "display_data"
    }
   ],
   "source": [
    "file_path = \"/home/zy/other/fintech/finetune/table_qa/data/personal_information_augmentation.json\"\n",
    "\n",
    "data = read_jsonl(file_path)\n",
    "\n",
    "print(\"total data: \", len(data))\n",
    "# 统计 data[\"prompt\"] 的长度\n",
    "length = Counter()\n",
    "length_list = []\n",
    "valid_data = []\n",
    "for i in data:\n",
    "    prompt = i[\"prompt\"]\n",
    "    # tokenize\n",
    "    tokenized_prompt = tokenizer(prompt)['input_ids']\n",
    "    # print(tokenized_prompt)\n",
    "    # break\n",
    "    if len(tokenized_prompt) > 768:\n",
    "        continue\n",
    "    length_list.append(len(tokenized_prompt))\n",
    "    valid_data.append(i)\n",
    "    \n",
    "print(\"total length: \", len(length_list))\n",
    "# 绘制长度直方图\n",
    "print(max(length_list))\n",
    "plt.hist(length_list, bins=100)"
   ]
  },
  {
   "cell_type": "code",
   "execution_count": 7,
   "metadata": {},
   "outputs": [],
   "source": [
    "# 9 : 1 划分 train dev\n",
    "data = valid_data\n",
    "train_data = data[:int(len(data)*0.9)]\n",
    "dev_data = data[int(len(data)*0.9):]\n",
    "\n",
    "# 保存\n",
    "with open('personal_information_augmentation_train.json', 'w') as f:\n",
    "    json.dump(train_data, f, ensure_ascii=False, indent=4)\n",
    "with open('personal_information_augmentation_dev.json', 'w') as f:\n",
    "    json.dump(dev_data, f, ensure_ascii=False, indent=4)"
   ]
  },
  {
   "cell_type": "code",
   "execution_count": 2,
   "metadata": {},
   "outputs": [
    {
     "name": "stdout",
     "output_type": "stream",
     "text": [
      "{'prompt': \"现在给你若干个包含公司基本信息的表格,请你根据表格的内容正确回答问题:\\n\\n2021年深桑达员工数量、专业构成及教育程度表：[['报告期末母公司在职员工的数量（人）', '275'], ['报告期末主要子公司在职员工的数量（人）', '20,421'], ['报告期末在职员工的数量合计（人）', '20,696'], ['当期领取薪酬员工总人数（人）', '20,696'], ['母公司及主要子公司需承担费用的离退休职工人数（人）', '542'], ['专业构成', ''], ['专业构成类别', '专业构成人数（人）'], ['生产人员', '3,392'], ['销售人员', '3,095'], ['技术人员', '11,802'], ['财务人员', '303'], ['行政人员', '2,104'], ['合计', '20,696'], ['教育程度', ''], ['教育程度类别', '数量（人）'], ['博士学历', '29'], ['硕士学历', '2,195'], ['本科学历', '14,607'], ['本科以下', '3,865'], ['合计', '20,696']]\\n\\n2021年深桑达研发投入表：[['', '2021年', '2020年', '变动比例'], ['研发人员数量（人）', '2,183', '1,631', '33.84%'], ['研发人员数量占比', '11.00%', '9.00%', '2.00%'], ['研发人员学历结构', '——', '——', '——'], ['本科', '1,244', '897', '38.68%'], ['硕士', '807', '554', '45.67%'], ['研发人员年龄构成', '——', '——', '——'], ['30岁以下', '916', '652', '40.49%'], ['30~40岁', '851', '570', '49.30%']]\\n\\n2021年深桑达硕士及以上人数是什么?\", 'response': '2021年深桑达博士的人数是29人， 硕士的人数是2195人，硕士及以上人数是{29+2195}人。'}\n",
      "{'labels': '2021年深桑达博士的人数是29人， 硕士的人数是2195人，硕士及以上人数是{29+2195}人。', 'predict': '2021年深桑达硕士及以上的人数是2195人。'}\n",
      "{'prompt': \"现在给你若干个包含公司基本信息的表格,请你根据表格的内容正确回答问题:\\n\\n2020年常山药业员工数量、专业构成及教育程度表：[['母公司在职员工的数量（人）', '728'], ['主要子公司在职员工的数量（人）', '410'], ['在职员工的数量合计（人）', '1,138'], ['当期领取薪酬员工总人数（人）', '1,138'], ['母公司及主要子公司需承担费用的离退休职工人数（人）', '20'], ['专业构成', ''], ['专业构成类别', '专业构成人数（人）'], ['生产人员', '487'], ['销售人员', '68'], ['财务人员', '30'], ['行政人员', '62'], ['研发人员', '197'], ['质量管理检测人员', '160'], ['采购', '25'], ['其他', '109'], ['合计', '1,138'], ['教育程度', ''], ['教育程度类别', '数量（人）'], ['硕士及硕士以上', '87'], ['本科', '423'], ['大专', '414'], ['大专以下', '214'], ['合计', '1,138']]\\n\\n2020年常山药业研发投入表：[['', '2020年', '2019年', '2018年'], ['研发人员数量（人）', '197', '194', '185'], ['研发人员数量占比', '17.31%', '19.34%', '20.00%'], ['研发投入金额（元）', '169,625,399.00', '163,347,552.04', '119,067,025.60'], ['研发投入占营业收入比例', '7.18%', '7.89%', '7.20%'], ['研发支出资本化的金额（元）', '42,081,985.97', '27,435,970.24', '20,179,921.87'], ['资本化研发支出占研发投入的比例', '24.81%', '16.80%', '16.95%'], ['资本化研发支出占当期净利润的比重', '16.76%', '12.33%', '15.26%']]\\n\\n常山药业在2020年中，硕士及以上占职工人数的比例是多少，结果请保留两位小数.\", 'response': '常山药业2020年的硕士及以上是87人，职工人数是1138人，计算比例公式为硕士及以上/职工人数，因此硕士及以上占职工人数的比例是{87/1138}。'}\n",
      "{'labels': '常山药业2020年的硕士及以上是87人，职工人数是1138人，计算比例公式为硕士及以上/职工人数，因此硕士及以上占职工人数的比例是{87/1138}。', 'predict': '常山药业2020年的硕士及硕士以上的比例是87/1138，计算比例公式为硕士及以上/职工人数，因此硕士及硕士以上的比例是{87/1138}。'}\n",
      "{'prompt': \"现在给你若干个包含公司基本信息的表格,请你根据表格的内容正确回答问题:\\n\\n2019年凯莱英医药集团天津股份有限公司员工数量、专业构成及教育程度表：[['母公司在职员工的数量（人）', '166'], ['主要子公司在职员工的数量（人）', '3,674'], ['在职员工的数量合计（人）', '3,840'], ['当期领取薪酬员工总人数（人）', '3,840'], ['母公司及主要子公司需承担费用的离退休职工人数（人）', '9'], ['专业构成', ''], ['专业构成类别', '专业构成人数（人）'], ['生产人员', '1,208'], ['销售人员', '43'], ['研发及分析', '1,838'], ['供应、采购', '118'], ['基建、设备、EHS', '285'], ['财务、行政管理', '348'], ['合计', '3,840'], ['教育程度', ''], ['教育程度类别', '数量（人）'], ['博士研究生', '102'], ['硕士研究生', '652'], ['大学本科', '1,941'], ['大学专科', '445'], ['中专及以下', '700'], ['合计', '3,840']]\\n\\n2019年凯莱英医药集团天津股份有限公司研发投入表：[['', '2019年', '2018年', '变动比例'], ['研发人员数量（人）', '1,838', '1,468', '25.20%'], ['研发人员数量占比', '47.86%', '44.61%', '3.25%'], ['研发投入金额（元）', '192,521,782.74', '155,177,743.99', '24.07%'], ['研发投入占营业收入比例', '7.83%', '8.46%', '-0.63%'], ['研发投入资本化的金额（元）', '0.00', '0.00', ''], ['资本化研发投入占研发投入的比例', '0.00%', '0.00%', '']]\\n\\n在2019年中，凯莱英医药集团天津股份有限公司的硕士及以上人数占职工人数的比例是多少（保留到小数点后两位）？\", 'response': '凯莱英医药集团天津股份有限公司在2019年的博士人员数量是102人， 硕士人员数量是102人}，职工人数是3840，计算比例公式为(硕士人数+博士及以上人数)/职工人数，因此硕士及以上人数占职工人数的比例是{(102+102)/3840}。'}\n",
      "{'labels': '凯莱英医药集团天津股份有限公司在2019年的博士人员数量是102人， 硕士人员数量是102人}，职工人数是3840，计算比例公式为(硕士人数+博士及以上人数)/职工人数，因此硕士及以上人数占职工人数的比例是{(102+102)/3840}。', 'predict': '凯莱英医药集团天津股份有限公司在2019年的博士人员数量是102人， 硕士人员数量是652人}，职工人数是3840，计算比例公式为(硕士人数+博士及以上人数)/职工人数，因此硕士及以上人数占职工人数的比例是{(102+652)/3840}。'}\n",
      "{'prompt': \"现在给你若干个包含公司基本信息的表格,请你根据表格的内容正确回答问题:\\n\\n2020年深圳市兆威机电股份有限公司员工数量、专业构成及教育程度表：[['母公司在职员工的数量（人）', '1,084'], ['主要子公司在职员工的数量（人）', '681'], ['在职员工的数量合计（人）', '1,765'], ['当期领取薪酬员工总人数（人）', '1,765'], ['母公司及主要子公司需承担费用的离退休职工人数（人）', '0'], ['专业构成', ''], ['专业构成类别', '专业构成人数（人）'], ['生产人员', '923'], ['销售人员', '84'], ['技术人员', '91'], ['财务人员', '16'], ['行政人员', '84'], ['研发人员', '354'], ['品质人员', '140'], ['其他', '73'], ['合计', '1,765'], ['教育程度', ''], ['教育程度类别', '数量（人）'], ['博士研究生', '2'], ['硕士研究生', '83'], ['大学本科', '203'], ['大学专科', '230'], ['中等师范', '1'], ['中等专科', '169'], ['高技', '1'], ['技工学校', '18'], ['职业高中', '64'], ['普通高中', '314'], ['初级中学', '663'], ['小学', '17'], ['合计', '1,765']]\\n\\n2020年深圳市兆威机电股份有限公司研发投入表：[['', '2020年', '2019年', '变动比例'], ['研发人员数量（人）', '354', '317', '11.67%'], ['研发人员数量占比', '20.06%', '11.64%', '8.42%'], ['研发投入金额（元）', '74,630,194.23', '79,049,593.03', '-5.59%'], ['研发投入占营业收入比例', '6.24%', '4.43%', '1.81%'], ['研发投入资本化的金额（元）', '0.00', '0.00', '0.00%'], ['资本化研发投入占研发投入的比例', '0.00%', '0.00%', '0.00%']]\\n\\n请提供深圳市兆威机电股份有限公司2020年的硕士及以上人数.\", 'response': '深圳市兆威机电股份有限公司2020年的博士人员人数是2人， 硕士人员人数是2人，硕士及以上人数是{2+2}人。'}\n",
      "{'labels': '深圳市兆威机电股份有限公司2020年的博士人员人数是2人， 硕士人员人数是2人，硕士及以上人数是{2+2}人。', 'predict': '深圳市兆威机电股份有限公司2020年的博士人员人数是2人， 硕士人员人数是83人，硕士及以上人数是{2+83}人。'}\n",
      "{'prompt': \"现在给你若干个包含公司基本信息的表格,请你根据表格的内容正确回答问题:\\n\\n2019年经纬辉开员工数量、专业构成及教育程度表：[['母公司在职员工的数量（人）', '', '146'], ['主要子公司在职员工的数量（人）', '', '2,756'], ['在职员工的数量合计（人）', '', '2,902'], ['当期领取薪酬员工总人数（人）', '', '3,568'], ['母公司及主要子公司需承担费用的离退休职工人数（人）', '', '0'], ['专业构成', '', ''], ['专业构成类别', '', '专业构成人数（人）'], ['生产人员', '', '1,874'], ['销售人员', '', '53'], ['技术人员', '', '613'], ['财务人员', '', '42'], ['行政人员', '', '132'], ['其他', '', '188'], ['合计', '2,902', ''], ['教育程度', '', ''], ['教育程度类别', '', '数量（人）'], ['博士', '', '3'], ['研究生', '', '16'], ['本科', '', '274'], ['大专及以下', '', '2,609'], ['合计', '2,902', '']]\\n\\n2019年经纬辉开研发投入表：[['', '2019年', '2018年', '2017年'], ['研发人员数量（人）', '386', '352', '352'], ['研发人员数量占比', '13.30%', '14.98%', '12.05%'], ['研发投入金额（元）', '79,466,395.60', '66,983,866.19', '28,387,647.60'], ['研发投入占营业收入比例', '3.41%', '3.25%', '3.19%'], ['研发支出资本化的金额（元）', '0.00', '0.00', '0.00'], ['资本化研发支出占研发投入的比例', '0.00%', '0.00%', '0.00%'], ['资本化研发支出占当期净利润的比重', '0.00%', '0.00%', '0.00%']]\\n\\n在2019年中，经纬辉开的硕士及以上人数占职工人数的比例是多少（保留到小数点后两位）？\", 'response': '经纬辉开在2019年的博士人员数量是3人， 硕士人员数量是16人}，职工人数是2902，计算比例公式为(硕士人数+博士及以上人数)/职工人数，因此硕士及以上人数占职工人数的比例是{(3+16)/2902}。'}\n",
      "{'labels': '经纬辉开在2019年的博士人员数量是3人， 硕士人员数量是16人}，职工人数是2902，计算比例公式为(硕士人数+博士及以上人数)/职工人数，因此硕士及以上人数占职工人数的比例是{(3+16)/2902}。', 'predict': '经纬辉开在2019年的博士人员数量是3人， 硕士人员数量是3人}，职工人数是2902，计算比例公式为(硕士人数+博士及以上人数)/职工人数，因此硕士及以上人数占职工人数的比例是{(3+3)/2902}。'}\n",
      "{'prompt': \"现在给你若干个包含公司基本信息的表格,请你根据表格的内容正确回答问题:\\n\\n2020年江苏农华智慧农业科技股份有限公司员工数量、专业构成及教育程度表：[['母公司在职员工的数量（人）', '58'], ['主要子公司在职员工的数量（人）', '1,700'], ['在职员工的数量合计（人）', '1,758'], ['当期领取薪酬员工总人数（人）', '1,683'], ['母公司及主要子公司需承担费用的离退休职工人数（人）', '155'], ['专业构成', ''], ['专业构成类别', '专业构成人数（人）'], ['生产人员', '1,162'], ['销售人员', '112'], ['技术人员', '266'], ['财务人员', '61'], ['行政人员', '157'], ['合计', '1,758'], ['教育程度', ''], ['教育程度类别', '数量（人）'], ['博士后', '0'], ['博士', '0'], ['硕士', '10'], ['本科', '195'], ['专科', '271'], ['高中及以下', '1,282'], ['合计', '1,758']]\\n\\n2020年江苏农华智慧农业科技股份有限公司研发投入表：[['', '2020年', '2019年', '变动比例'], ['研发人员数量（人）', '152', '169', '减少10.06个百分比'], ['研发人员数量占比', '8.65%', '8.84%', '减少0.19个百分比'], ['研发投入金额（元）', '15,980,176.67', '26,809,267.42', '减少40.39个百分比'], ['研发投入占营业收入比例', '0.92%', '1.85%', '减少0.93个百分比'], ['研发投入资本化的金额（元）', '7,891,201.32', '7,064,419.39', '增加11.70个百分比'], ['资本化研发投入占研发投入的比例', '49.38%', '26.35%', '增加23.03个百分比']]\\n\\n江苏农华智慧农业科技股份有限公司在2020年的硕士及以上占职工人数的比例是多少？请保留2位小数。\", 'response': '江苏农华智慧农业科技股份有限公司2020年的硕士及以上是10人，职工人数是1758人，计算比例公式为硕士及以上/职工人数，因此硕士及以上占职工人数的比例是{10/1758}。'}\n",
      "{'labels': '江苏农华智慧农业科技股份有限公司2020年的硕士及以上是10人，职工人数是1758人，计算比例公式为硕士及以上/职工人数，因此硕士及以上占职工人数的比例是{10/1758}。', 'predict': '江苏农华智慧农业科技股份有限公司在2020年的博士人员数量是0人， 硕士人员数量是10人，职工人数是1758，计算比例公式为(硕士人数+博士及以上人数)/职工人数，因此硕士及以上占职工人数的比例是{(0+10)/1758}。'}\n",
      "{'prompt': \"现在给你若干个包含公司基本信息的表格,请你根据表格的内容正确回答问题:\\n\\n2019年新希望员工数量、专业构成及教育程度表：[['母公司在职员工的数量（人）', '1,431'], ['主要子公司在职员工的数量（人）', '69,169'], ['在职员工的数量合计（人）', '70,600'], ['当期领取薪酬员工总人数（人）', '70,600'], ['母公司及主要子公司需承担费用的离退休职工人数（人）', '0'], ['专业构成', ''], ['专业构成类别', '专业构成人数（人）'], ['生产人员', '51,475'], ['销售人员', '9,668'], ['技术人员', '3,142'], ['财务人员', '2,559'], ['行政人员', '3,756'], ['合计', '70,600'], ['教育程度', ''], ['教育程度类别', '数量（人）'], ['本科以上', '1,316'], ['本科', '9,133'], ['大专', '9,312'], ['其他', '50,839'], ['合计', '70,600']]\\n\\n2019年新希望研发投入表：[['', '2019年', '2018年', '变动比例'], ['研发人员数量（人）', '711', '464', '53.23%'], ['研发人员数量占比', '1.01%', '0.75%', '0.26%'], ['研发投入金额（元）', '174,211,791.11', '94,953,158.80', '83.47%'], ['研发投入占营业收入比例', '0.21%', '0.14%', '0.07%'], ['研发投入资本化的金额（元）', '0.00', '0.00', ''], ['资本化研发投入占研发投入的比例', '0.00%', '0.00%', '']]\\n\\n新希望在2019年的研发人员占职工人数的比例是多少？请保留2位小数。\", 'response': '新希望2019年的研发人员是711人，职工人数是70600人，计算比例公式为研发人员/职工人数，因此研发人员占职工人数的比例是{711/70600}。'}\n",
      "{'labels': '新希望2019年的研发人员是711人，职工人数是70600人，计算比例公式为研发人员/职工人数，因此研发人员占职工人数的比例是{711/70600}。', 'predict': '新希望在2019年的研发人员是711人，职工人数是70600人，计算比例公式为研发人员/职工人数，因此研发人员占职工人数的比例是{711/70600}。'}\n",
      "{'prompt': \"现在给你若干个包含公司基本信息的表格,请你根据表格的内容正确回答问题:\\n\\n2020年银邦金属复合材料股份有限公司员工数量、专业构成及教育程度表：[['母公司在职员工的数量（人）', '777'], ['主要子公司在职员工的数量（人）', '237'], ['在职员工的数量合计（人）', '1,014'], ['当期领取薪酬员工总人数（人）', '1,002'], ['母公司及主要子公司需承担费用的离退休职工人数（人）', '12'], ['专业构成', ''], ['专业构成类别', '专业构成人数（人）'], ['生产人员', '564'], ['销售人员', '43'], ['技术人员', '286'], ['财务人员', '16'], ['行政人员', '74'], ['其他人员', '31'], ['合计', '1,014'], ['教育程度', ''], ['教育程度类别', '数量（人）'], ['博士', '3'], ['硕士', '22'], ['本科', '183'], ['大专', '177'], ['高中及以下', '629'], ['合计', '1,014']]\\n\\n2020年银邦金属复合材料股份有限公司研发投入表：[['', '2020年', '2019年', '2018年'], ['研发人员数量（人）', '119', '124', '106'], ['研发人员数量占比', '14.91%', '14.76%', '12.99%'], ['研发投入金额（元）', '83,421,827.34', '73,305,121.16', '45,301,339.40'], ['研发投入占营业收入比例', '3.52%', '3.62%', '2.35%'], ['研发支出资本化的金额（元）', '0.00', '0.00', '0.00'], ['资本化研发支出占研发投入的比例', '0.00%', '0.00%', '0.00%'], ['资本化研发支出占当期净利润的比重', '0.00%', '0.00%', '0.00%']]\\n\\n银邦金属复合材料股份有限公司在2020年中，硕士及以上人数占职工人数的比率是多少，结果请保留两位小数.\", 'response': '银邦金属复合材料股份有限公司在2020年的博士人员数量是3人， 硕士人员数量是22人，职工人数是1014，计算比例公式为(硕士人数+博士及以上人数)/职工人数，因此硕士及以上人数占职工人数的比率是{(3+22)/1014}。'}\n",
      "{'labels': '银邦金属复合材料股份有限公司在2020年的博士人员数量是3人， 硕士人员数量是22人，职工人数是1014，计算比例公式为(硕士人数+博士及以上人数)/职工人数，因此硕士及以上人数占职工人数的比率是{(3+22)/1014}。', 'predict': '银邦金属复合材料股份有限公司在2020年的博士人员数量是3人， 硕士人员数量是22人}，职工人数是1014，计算比例公式为(硕士人数+博士及以上人数)/职工人数，因此硕士及以上人数占职工人数的比率是{(3+22)/1014}。'}\n",
      "{'prompt': \"现在给你若干个包含公司基本信息的表格,请你根据表格的内容正确回答问题:\\n\\n2020年宁夏晓鸣农牧股份有限公司员工数量、专业构成及教育程度表：[['母公司在职员工的数量（人）', '1,403'], ['主要子公司在职员工的数量（人）', '37'], ['在职员工的数量合计（人）', '1,440'], ['当期领取薪酬员工总人数（人）', '1,440'], ['母公司及主要子公司需承担费用的离退休职工人数（人）', '0'], ['专业构成', ''], ['专业构成类别', '专业构成人数（人）'], ['生产人员', '1,104'], ['销售人员', '87'], ['技术人员', '150'], ['财务人员', '15'], ['行政人员', '84'], ['合计', '1,440'], ['教育程度', ''], ['教育程度类别', '数量（人）'], ['博士以上', '0'], ['硕士', '23'], ['本科及大专', '308'], ['高中以下', '1,109'], ['合计', '1,440']]\\n\\n2020年宁夏晓鸣农牧股份有限公司研发投入表：[['', '2020年', '2019年', '2018年'], ['研发人员数量（人）', '120', '135', '14'], ['研发人员数量占比', '8.33%', '10.84%', '1.46%'], ['研发投入金额（元）', '20,700,158.04', '20,020,472.64', '11,228,910.13'], ['研发投入占营业收入比例', '3.83%', '3.71%', '2.93%'], ['研发支出资本化的金额（元）', '0.00', '0.00', '0.00'], ['资本化研发支出占研发投入的比例', '0.00%', '0.00%', '0.00%'], ['资本化研发支出占当期净利润的比重', '0.00%', '0.00%', '0.00%']]\\n\\n在2020年中，宁夏晓鸣农牧股份有限公司的硕士及以上占职工人数的比率是多少，保留到小数点后两位？\", 'response': '宁夏晓鸣农牧股份有限公司2020年的硕士及以上是23人，职工人数是1440人，计算比例公式为硕士及以上/职工人数，因此硕士及以上占职工人数的比率是{23/1440}。'}\n",
      "{'labels': '宁夏晓鸣农牧股份有限公司2020年的硕士及以上是23人，职工人数是1440人，计算比例公式为硕士及以上/职工人数，因此硕士及以上占职工人数的比率是{23/1440}。', 'predict': '宁夏晓鸣农牧股份有限公司2020年的博士人员数量是0人， 硕士人员数量是23人，职工人数是1440，计算比例公式为(硕士人数+博士及以上人数)/职工人数，因此硕士及以上占职工人数的比率是{(0+23)/1440}。'}\n",
      "{'prompt': \"现在给你若干个包含公司基本信息的表格,请你根据表格的内容正确回答问题:\\n\\n2020年大悦城控股集团股份有限公司员工数量、专业构成及教育程度表：[['母公司在职员工的数量（人）', '428'], ['主要子公司在职员工的数量（人）', '9,855'], ['在职员工的数量合计（人）', '10,283'], ['当期领取薪酬员工总人数（人）', '10,283'], ['母公司及主要子公司需承担费用的离退休职工人数（人）', '972'], ['专业构成', ''], ['专业构成类别', '专业构成人数（人）'], ['生产人员', '0'], ['销售人员', '333'], ['技术人员', '1,376'], ['财务人员', '523'], ['行政人员', '1,034'], ['物业服务人员', '3,413'], ['酒店服务人员', '1,618'], ['商业管理中心人员', '1,100'], ['其他人员', '886'], ['合计', '10,283'], ['教育程度', ''], ['教育程度类别', '数量（人）'], ['博士研究生', '18'], ['硕士研究生', '1,586'], ['本科', '3,774'], ['专科', '1,921'], ['大专以下', '2,984'], ['合计', '10,283']]\\n\\n2020年大悦城控股集团股份有限公司研发投入表：[['', '2020年', '2019年', '变动比例'], ['研发人员数量（人）', '0', '0', '-'], ['研发人员数量占比', '0.00%', '0.00%', '-'], ['研发投入金额（元）', '19,034,258.41', '0.00', '不适用'], ['研发投入占营业收入比例', '0.05%', '0.00%', '0.05%'], ['研发投入资本化的金额（元）', '0.00', '0.00', '0.00'], ['资本化研发投入占研发投入的比例', '0.00', '0.00', '0.00']]\\n\\n在2020年中，大悦城控股集团股份有限公司的硕士及以上人数占职工人数的比例是多少（保留到小数点后两位）？\", 'response': '大悦城控股集团股份有限公司在2020年的博士人员数量是18人， 硕士人员数量是18人}，职工人数是10283，计算比例公式为(硕士人数+博士及以上人数)/职工人数，因此硕士及以上人数占职工人数的比例是{(18+18)/10283}。'}\n",
      "{'labels': '大悦城控股集团股份有限公司在2020年的博士人员数量是18人， 硕士人员数量是18人}，职工人数是10283，计算比例公式为(硕士人数+博士及以上人数)/职工人数，因此硕士及以上人数占职工人数的比例是{(18+18)/10283}。', 'predict': '大悦城控股集团股份有限公司在2020年的博士人员数量是18人， 硕士人员数量是1586人}，职工人数是10283，计算比例公式为(硕士人数+博士及以上人数)/职工人数，因此硕士及以上人数占职工人数的比例是{(18+1586)/10283}。'}\n",
      "{'prompt': \"现在给你若干个包含公司基本信息的表格,请你根据表格的内容正确回答问题:\\n\\n2020年鸿远电子员工数量、专业构成及教育程度表：[['母公司在职员工的数量', '619'], ['主要子公司在职员工的数量', '341'], ['在职员工的数量合计', '960'], ['母公司及主要子公司需承担费用的离退休职工人数', '0'], ['专业构成', ''], ['专业构成类别', '专业构成人数'], ['生产、技术人员', '630'], ['销售人员', '208'], ['财务人员', '20'], ['行政人员', '102'], ['合计', '960'], ['教育程度', ''], ['教育程度类别', '数量（人）'], ['博士', '6'], ['硕士', '52'], ['本科、大专', '610'], ['大专以下', '292'], ['合计', '960']]\\n\\n2020年鸿远电子研发投入表：[['本期费用化研发投入', '45,131,287.26'], ['本期资本化研发投入', '0'], ['研发投入合计', '45,131,287.26'], ['研发投入总额占营业收入比例（%）', '2.65'], ['公司研发人员的数量', '120'], ['研发人员数量占公司总人数的比例（%）', '12.50'], ['研发投入资本化的比重（%）', '0']]\\n\\n在2020年中，鸿远电子的硕士及以上人数占职工人数的比例是多少（保留到小数点后两位）？\", 'response': '鸿远电子在2020年的博士人员数量是6人， 硕士人员数量是52人}，职工人数是960，计算比例公式为(硕士人数+博士及以上人数)/职工人数，因此硕士及以上人数占职工人数的比例是{(6+52)/960}。'}\n",
      "{'labels': '鸿远电子在2020年的博士人员数量是6人， 硕士人员数量是52人}，职工人数是960，计算比例公式为(硕士人数+博士及以上人数)/职工人数，因此硕士及以上人数占职工人数的比例是{(6+52)/960}。', 'predict': '鸿远电子2020年的硕士及以上人数是6人，职工人数是960人，计算比例公式为硕士及以上人数/职工人数，因此硕士及以上人数占职工人数的比例是{6/960}。'}\n",
      "{'prompt': \"现在给你若干个包含公司基本信息的表格,请你根据表格的内容正确回答问题:\\n\\n2021年华是科技员工数量、专业构成及教育程度表：[['报告期末母公司在职员工的数量（人）', '294'], ['报告期末主要子公司在职员工的数量（人）', '85'], ['报告期末在职员工的数量合计（人）', '379'], ['当期领取薪酬员工总人数（人）', '379'], ['母公司及主要子公司需承担费用的离退休职工人数（人）', '2'], ['专业构成', ''], ['专业构成类别', '专业构成人数（人）'], ['生产人员', '0'], ['销售人员', '25'], ['技术人员', '0'], ['财务人员', '9'], ['行政人员', '44'], ['管理人员', '146'], ['技术研发人员', '155'], ['合计', '379'], ['教育程度', ''], ['教育程度类别', '数量（人）'], ['博士及以上', '2'], ['硕士', '14'], ['本科', '140'], ['大专及以下', '223'], ['合计', '379']]\\n\\n2021年华是科技研发投入表：[['', '2021年', '2020年', '变动比例'], ['研发人员数量（人）', '155', '128', '21.09%'], ['研发人员数量占比', '40.90%', '34.32%', '6.58%'], ['研发人员学历', '', '', ''], ['本科', '72', '50', '44.00%'], ['硕士', '10', '9', '11.11%'], ['博士', '2', '1', '100.00%'], ['研发人员年龄构成', '', '', ''], ['30岁以下', '71', '58', '22.41%'], ['30~40岁', '64', '45', '42.22%']]\\n\\n在2021年中，华是科技的研发人员占职工人数的比率是多少，保留到小数点后两位？\", 'response': '华是科技2021年的研发人员是155人，职工人数是379人，计算比例公式为研发人员/职工人数，因此研发人员占职工人数的比率是{155/379}。'}\n",
      "{'labels': '华是科技2021年的研发人员是155人，职工人数是379人，计算比例公式为研发人员/职工人数，因此研发人员占职工人数的比率是{155/379}。', 'predict': '华是科技的研发人员是155人，职工人数是379人，计算比例公式为研发人员/职工人数，因此研发人员占职工人数的比率是{155/379}。'}\n",
      "{'prompt': \"现在给你若干个包含公司基本信息的表格,请你根据表格的内容正确回答问题:\\n\\n2020年梅安森员工数量、专业构成及教育程度表：[['母公司在职员工的数量（人）', '400'], ['主要子公司在职员工的数量（人）', '76'], ['在职员工的数量合计（人）', '476'], ['当期领取薪酬员工总人数（人）', '570'], ['母公司及主要子公司需承担费用的离退休职工人数（人）', '0'], ['专业构成', ''], ['专业构成类别', '专业构成人数（人）'], ['生产人员', '75'], ['销售人员', '63'], ['技术人员', '120'], ['财务人员', '12'], ['行政人员', '33'], ['工程人员', '114'], ['管理人员', '59'], ['合计', '476'], ['教育程度', ''], ['教育程度类别', '数量（人）'], ['硕士、博士', '17'], ['大学本科学历', '229'], ['大专学历', '157'], ['大专以下学历', '73'], ['合计', '476']]\\n\\n2020年梅安森研发投入表：[['', '2020年', '2019年', '2018年'], ['研发人员数量（人）', '120', '97', '94'], ['研发人员数量占比', '25.21%', '25.06%', '23.86%'], ['研发投入金额（元）', '24,029,032.49', '24,380,575.10', '28,217,050.18'], ['研发投入占营业收入比例', '8.44%', '9.00%', '12.04%'], ['研发支出资本化的金额（元）', '0.00', '0.00', '0.00'], ['资本化研发支出占研发投入的比例', '0.00%', '0.00%', '0.00%'], ['资本化研发支出占当期净利润的比重', '0.00%', '0.00%', '0.00%']]\\n\\n梅安森在2020年的硕士及以上人数占职工人数的比例是多少？请保留2位小数。\", 'response': '梅安森在2020年的博士人员数量是17人， 硕士人员数量是17人，职工人数是476，计算比例公式为(硕士人数+博士及以上人数)/职工人数，因此硕士及以上人数占职工人数的比例是{(17+17)/476}。'}\n",
      "{'labels': '梅安森在2020年的博士人员数量是17人， 硕士人员数量是17人，职工人数是476，计算比例公式为(硕士人数+博士及以上人数)/职工人数，因此硕士及以上人数占职工人数的比例是{(17+17)/476}。', 'predict': '梅安森在2020年的硕士及以上人数是17人，职工人数是476人，计算比例公式为硕士及以上人数/职工人数，因此硕士及以上人数占职工人数的比例是{17/476}。'}\n",
      "{'prompt': \"现在给你若干个包含公司基本信息的表格,请你根据表格的内容正确回答问题:\\n\\n2019年交控科技员工数量、专业构成及教育程度表：[['母公司在职员工的数量', '613'], ['主要子公司在职员工的数量', '720'], ['在职员工的数量合计', '1,333'], ['母公司及主要子公司需承担费用的离退休职工人数', '0'], ['专业构成', ''], ['专业构成类别', '专业构成人数'], ['研发人员', '255'], ['工程及技术人员', '726'], ['管理及行政人员', '206'], ['生产人员', '79'], ['市场及销售人员', '67'], ['合计', '1,333'], ['教育程度', ''], ['教育程度类别', '数量（人）'], ['硕士及以上', '240'], ['本科', '756'], ['大专', '275'], ['大专以下', '62'], ['合计', '1,333']]\\n\\n2019年交控科技研发投入表：[['本期费用化研发投入', '113,173,881.73'], ['本期资本化研发投入', '0'], ['研发投入合计', '113,173,881.73'], ['研发投入总额占营业收入比例（%）', '6.85'], ['公司研发人员的数量', '255'], ['研发人员数量占公司总人数的比例（%）', '19.13'], ['研发投入资本化的比重（%）', '0']]\\n\\n交控科技在2019年的技术人员人员数量是多少?\", 'response': '交控科技在2019年的技术人员人员数量是726人。'}\n",
      "{'labels': '交控科技在2019年的技术人员人员数量是726人。', 'predict': '交控科技在2019年的技术人员人员数量是255人。'}\n",
      "{'prompt': \"现在给你若干个包含公司基本信息的表格,请你根据表格的内容正确回答问题:\\n\\n2019年中孚信息股份有限公司员工数量、专业构成及教育程度表：[['母公司在职员工的数量（人）', '657'], ['主要子公司在职员工的数量（人）', '327'], ['在职员工的数量合计（人）', '984'], ['当期领取薪酬员工总人数（人）', '984'], ['母公司及主要子公司需承担费用的离退休职工人数（人）', '0'], ['专业构成', ''], ['专业构成类别', '专业构成人数（人）'], ['生产人员', '36'], ['销售人员', '154'], ['技术人员', '298'], ['财务人员', '21'], ['行政人员', '95'], ['研发人员', '380'], ['合计', '984'], ['教育程度', ''], ['教育程度类别', '数量（人）'], ['博士研究生', '3'], ['硕士研究生', '71'], ['本科', '589'], ['专科', '298'], ['专科以下', '23'], ['合计', '984']]\\n\\n2019年中孚信息股份有限公司研发投入表：[['', '2019年', '2018年', '2017年'], ['研发人员数量（人）', '380', '253', '204'], ['研发人员数量占比', '38.62%', '36.67%', '37.23%'], ['研发投入金额（元）', '106,597,264.64', '70,412,918.77', '47,144,558.95'], ['研发投入占营业收入比例', '17.68%', '19.78%', '16.77%'], ['研发支出资本化的金额（元）', '0.00', '0.00', '0.00'], ['资本化研发支出占研发投入的比例', '0.00%', '0.00%', '0.00%'], ['资本化研发支出占当期净利润的比重', '0.00%', '0.00%', '0.00%']]\\n\\n中孚信息股份有限公司2019年有多少硕士及以上人员?\", 'response': '中孚信息股份有限公司2019年的博士人员有3人， 硕士人员有3人，硕士及以上人员有{3+3}人。'}\n",
      "{'labels': '中孚信息股份有限公司2019年的博士人员有3人， 硕士人员有3人，硕士及以上人员有{3+3}人。', 'predict': '中孚信息股份有限公司2019年的博士人员有3人， 硕士人员有71人，硕士及以上人员有{3+71}人。'}\n",
      "{'prompt': \"现在给你若干个包含公司基本信息的表格,请你根据表格的内容正确回答问题:\\n\\n2019年高德红外员工数量、专业构成及教育程度表：[['母公司在职员工的数量（人）', '', '1321'], ['主要子公司在职员工的数量（人）', '', '1635'], ['在职员工的数量合计（人）', '', '2956'], ['当期领取薪酬员工总人数（人）', '', '2956'], ['母公司及主要子公司需承担费用的离退休职工人数（人）', '', '0'], ['专业构成', '', ''], ['专业构成类别', '', '专业构成人数（人）'], ['生产人员', '', '1353'], ['销售人员', '', '124'], ['技术人员', '', '832'], ['财务人员', '', '34'], ['行政人员', '', '613'], ['合计', '2956', ''], ['教育程度', '', ''], ['教育程度类别', '', '数量（人）'], ['高中及以下', '', '923'], ['大专', '', '725'], ['本科', '', '789'], ['硕士', '', '512'], ['博士', '', '7'], ['合计', '2956', '']]\\n\\n2019年高德红外研发投入表：[['', '2019年', '2018年', '变动比例'], ['研发人员数量（人）', '832', '738', '12.74%'], ['研发人员数量占比', '28.15%', '27.02%', '1.13%'], ['研发投入金额（元）', '315,279,712.24', '279,479,672.36', '12.81%'], ['研发投入占营业收入比例', '19.25%', '25.78%', '-6.53%'], ['研发投入资本化的金额（元）', '57,637,938.60', '67,714,426.63', '-14.88%'], ['资本化研发投入占研发投入的比例', '18.28%', '24.23%', '-5.95%']]\\n\\n高德红外在2019年中，硕士及以上人数占职工人数的比率是多少，结果请保留两位小数.\", 'response': '高德红外在2019年的博士人员数量是7人， 硕士人员数量是512人，职工人数是2956，计算比例公式为(硕士人数+博士及以上人数)/职工人数，因此硕士及以上人数占职工人数的比率是{(7+512)/2956}。'}\n",
      "{'labels': '高德红外在2019年的博士人员数量是7人， 硕士人员数量是512人，职工人数是2956，计算比例公式为(硕士人数+博士及以上人数)/职工人数，因此硕士及以上人数占职工人数的比率是{(7+512)/2956}。', 'predict': '高德红在2019年的博士人员数量是7人， 硕士人员数量是512人，职工人数是2956，计算比例公式为(硕士人数+博士及以上人数)/职工人数，因此硕士及以上人数占职工人数的比率是{(7+512)/2956}。'}\n",
      "{'prompt': \"现在给你若干个包含公司基本信息的表格,请你根据表格的内容正确回答问题:\\n\\n2020年江苏康缘药业股份有限公司员工数量、专业构成及教育程度表：[['母公司在职员工的数量', '5,709'], ['主要子公司在职员工的数量', '743'], ['在职员工的数量合计', '6,452'], ['母公司及主要子公司需承担费用的离退休职工人数', '0'], ['专业构成', ''], ['专业构成类别', '专业构成人数'], ['生产人员', '1,349'], ['销售人员', '4,183'], ['技术人员', '397'], ['财务人员', '105'], ['行政人员', '418'], ['合计', '6,452'], ['教育程度', ''], ['教育程度类别', '数量（人）'], ['博士及博士以上', '21'], ['硕 士', '224'], ['大 学', '1,608'], ['大 专', '2,900'], ['中专及中专以下', '1,699'], ['合计', '6,452']]\\n\\n2020年江苏康缘药业股份有限公司研发投入表：[['本期费用化研发投入', '380,421,663.02'], ['本期资本化研发投入', '15,048,446.10'], ['研发投入合计', '395,470,109.12'], ['研发投入总额占营业收入比例（%）', '13.04'], ['公司研发人员的数量', '397'], ['研发人员数量占公司总人数的比例（%）', '6.15'], ['研发投入资本化的比重（%）', '3.81']]\\n\\n2020年江苏康缘药业股份有限公司硕士及以上人数是什么?\", 'response': '2020年江苏康缘药业股份有限公司博士的人数是21人， 硕士的人数是0人，硕士及以上人数是{21+0}人。'}\n",
      "{'labels': '2020年江苏康缘药业股份有限公司博士的人数是21人， 硕士的人数是0人，硕士及以上人数是{21+0}人。', 'predict': '2020年江苏康缘药业股份有限公司博士的人数是21人， 硕士的人数是224人，硕士及以上人数是{21+224}人。'}\n"
     ]
    }
   ],
   "source": [
    "predicted_path = \"/home/zy/other/fintech/model/table_qa/personal/generated_predictions.txt\"\n",
    "\n",
    "with open(predicted_path, 'r') as f:\n",
    "    predicted = f.readlines()\n",
    "    \n",
    "dev_path = 'personal_information_augmentation_dev.json'\n",
    "\n",
    "with open(dev_path, 'r') as f:\n",
    "    dev = json.load(f)\n",
    "\n",
    "for i, line in enumerate(predicted):\n",
    "    line_dic = json.loads(line)\n",
    "    if line_dic['labels'] != line_dic['predict']:\n",
    "        print(dev[i])\n",
    "        print(line_dic)\n",
    "    "
   ]
  },
  {
   "cell_type": "code",
   "execution_count": 6,
   "metadata": {},
   "outputs": [
    {
     "name": "stdout",
     "output_type": "stream",
     "text": [
      "['乐歌股份2019年的研发人员是466人，职工人数是1812人，计算比例公式为研发人员/职工人数，因此研发人员占职工人数比例是0.26。']\n"
     ]
    }
   ],
   "source": [
    "# 正则匹配 大括号中的内容{}，懒惰模式\n",
    "import re\n",
    "response = [\"乐歌股份2019年的研发人员是466人，职工人数是1812人，计算比例公式为研发人员/职工人数，因此研发人员占职工人数比例是{466/1812}。\"]\n",
    "pattern = re.compile(r'\\{.*?\\}')\n",
    "for idx, res in enumerate(response):\n",
    "    matchs = pattern.findall(res)\n",
    "    if matchs:\n",
    "        cur_match = matchs[-1]\n",
    "        try:\n",
    "            cur_match_res = f\"{list(eval(cur_match))[0] :.2f}\"\n",
    "            new_res = res.replace(cur_match, cur_match_res)\n",
    "            response[idx] = new_res\n",
    "        except:\n",
    "            pass\n",
    "print(response)"
   ]
  },
  {
   "cell_type": "code",
   "execution_count": 4,
   "metadata": {},
   "outputs": [
    {
     "ename": "TypeError",
     "evalue": "unsupported format string passed to set.__format__",
     "output_type": "error",
     "traceback": [
      "\u001b[0;31m---------------------------------------------------------------------------\u001b[0m",
      "\u001b[0;31mTypeError\u001b[0m                                 Traceback (most recent call last)",
      "Cell \u001b[0;32mIn[4], line 1\u001b[0m\n\u001b[0;32m----> 1\u001b[0m \u001b[39mf\u001b[39m\u001b[39m\"\u001b[39m\u001b[39m{\u001b[39;00m\u001b[39meval\u001b[39m(cur_match)\u001b[39m \u001b[39m\u001b[39m:\u001b[39;00m\u001b[39m.2f\u001b[39m\u001b[39m}\u001b[39;00m\u001b[39m\"\u001b[39m\n",
      "\u001b[0;31mTypeError\u001b[0m: unsupported format string passed to set.__format__"
     ]
    }
   ],
   "source": [
    "f\"{eval(cur_match) :.2f}\""
   ]
  }
 ],
 "metadata": {
  "kernelspec": {
   "display_name": "torch",
   "language": "python",
   "name": "python3"
  },
  "language_info": {
   "codemirror_mode": {
    "name": "ipython",
    "version": 3
   },
   "file_extension": ".py",
   "mimetype": "text/x-python",
   "name": "python",
   "nbconvert_exporter": "python",
   "pygments_lexer": "ipython3",
   "version": "3.9.16"
  },
  "orig_nbformat": 4
 },
 "nbformat": 4,
 "nbformat_minor": 2
}
